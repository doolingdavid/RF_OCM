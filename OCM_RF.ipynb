{
 "cells": [
  {
   "cell_type": "code",
   "execution_count": 1,
   "metadata": {
    "collapsed": true
   },
   "outputs": [],
   "source": [
    "import numpy as np\n",
    "import pandas as pd\n",
    "import matplotlib.pyplot as plt\n",
    "from pandas import Series, DataFrame\n",
    "import pytz\n",
    "from pytz import common_timezones, all_timezones\n",
    "import matplotlib\n",
    "matplotlib.style.use('ggplot')\n",
    "%matplotlib inline\n",
    "from datetime import datetime\n",
    "import scipy as sp\n",
    "import statsmodels.api as sm\n",
    "import statsmodels.formula.api as smf\n",
    "matplotlib.style.use('fivethirtyeight')\n",
    "matplotlib.style.use('seaborn-talk')\n",
    "import os\n",
    "import collections"
   ]
  },
  {
   "cell_type": "markdown",
   "metadata": {},
   "source": [
    "# Random Forest model for OCM historical episodes\n",
    "\n",
    "In this script is an example of how to train and evaluate the performance of a random forest model for predicitng episode prices using OCM CMMI historical claims data.\n",
    "\n",
    "## <font color=\"steelblue\">Base Episodes</font>\n",
    "\n",
    "We can illustrate the procedure to train and evalute an RF model with these 17,500 base episodes:\n",
    "\n",
    "* site1: 2,588\n",
    "* site2: 2,325\n",
    "* site3: 3,055\n",
    "* site4: 516\n",
    "* site5: 1,428\n",
    "* site6: 2,144\n",
    "* site7: 4,949\n",
    "\n",
    "## <font color=\"steelblue\">OCM Prediction Model Covariates:</font>\n",
    "\n",
    "* Age/Sex\n",
    "* Cancer type\n",
    "* Chemotherapy drugs taken/administered during the episode (breast cancer only)\n",
    "* Receipt of cancer-related surgery\n",
    "* Part D eligibility and dual eligibility for Medicare and Medicaid\n",
    "* Receipt of radiation therapy\n",
    "* Receipt of bone marrow transplant\n",
    "* Clinical trial participation\n",
    "* Comorbidities\n",
    "* History of prior chemotherapy use\n",
    "* Insitutional status\n",
    "* Episode length\n",
    "* Geographic location/Hospital Referral Region (use lat/lng pairs derived from zipcode)\n",
    "\n",
    "## Add Episode begin date, Episode end date, and DOB\n"
   ]
  },
  {
   "cell_type": "code",
   "execution_count": 2,
   "metadata": {
    "collapsed": true
   },
   "outputs": [],
   "source": [
    "# Change to the directory where the historical episode files are housed\n",
    "\n",
    "preDouble = \"\\\\\\\\iobsdc01\\\\SharedDocs\\\\Development\\\\Clients\\\\2012 - 2015\"\n",
    "new = os.chdir(preDouble)\n",
    "#print(preDouble)\n",
    "\n",
    "# read in the files\n",
    "\n",
    "ucs = pd.read_table(\"OCM_143_50264_episodes_base_20160804.txt\", sep=\"|\")\n",
    "oha = pd.read_table(\"OCM_414_50280_episodes_base_20160812.txt\", sep=\"|\")\n",
    "hfci = pd.read_table(\"OCM_431_50233_episodes_base_20160902.txt\", sep=\"|\")\n",
    "iha = pd.read_table(\"OCM_057_50173_episodes_base_20160722.txt\", sep=\"\\t\")\n",
    "nmcc = pd.read_table(\"OCM_108_50279_episodes_base_20160812.txt\", sep=\"|\")\n",
    "dpn = pd.read_table(\"OCM_024_50116_episodes_base_20160916.txt\", sep=\"|\")\n",
    "somc = pd.read_table(\"OCM_514_50286_episodes_base_20160715.txt\", sep=\"|\")\n",
    "ucs[\"Practice\"] = \"UCS\"\n",
    "oha[\"Practice\"] = \"OHA\"\n",
    "hfci[\"Practice\"] = \"HFCI\"\n",
    "iha[\"Practice\"] = \"IHA\"\n",
    "nmcc[\"Practice\"] = \"NMCC\"\n",
    "dpn[\"Practice\"] = \"DPN\"\n",
    "somc[\"Practice\"] = \"SOMC\"\n",
    "\n",
    "# combine all the data into a single dataframe\n",
    "\n",
    "df = pd.concat([ucs,oha,hfci,iha,nmcc,dpn,somc]).copy()"
   ]
  },
  {
   "cell_type": "code",
   "execution_count": 3,
   "metadata": {
    "collapsed": false
   },
   "outputs": [
    {
     "name": "stdout",
     "output_type": "stream",
     "text": [
      "Index(['BENE_ID', 'BENE_HICN', 'FIRST_NAME', 'LAST_NAME', 'SEX', 'DOB', 'AGE',\n",
      "       'DOD', 'ZIPCODE', 'EP_ID', 'EP_BEG', 'EP_END', 'EP_LENGTH',\n",
      "       'CANCER_TYPE', 'RECON_ELIG', 'DUAL_PTD_LIS', 'INST', 'RADIATION',\n",
      "       'HCC_GRP', 'HRR_REL_COST', 'SURGERY', 'CLINICAL_TRIAL', 'BMT',\n",
      "       'CLEAN_PD', 'PTD_CHEMO', 'ACTUAL_EXP', 'BASELINE_PRICE',\n",
      "       'EXPERIENCE_ADJ', 'Practice'],\n",
      "      dtype='object')\n"
     ]
    }
   ],
   "source": [
    "print(df.columns)"
   ]
  },
  {
   "cell_type": "markdown",
   "metadata": {},
   "source": [
    "# <font color=\"steelblue\">First turn the zipcodes into (lat/lng/elev) triples</font>"
   ]
  },
  {
   "cell_type": "code",
   "execution_count": 4,
   "metadata": {
    "collapsed": true
   },
   "outputs": [],
   "source": [
    "from geopy.distance import vincenty\n",
    "from geopy.distance import great_circle\n",
    "\n",
    "df['goodzip'] = df.ZIPCODE.map(\"{:05}\".format)\n",
    "\n",
    "from geopy.geocoders import Nominatim\n",
    "geolocator = Nominatim()\n",
    "import geocoder\n",
    "def make_zip_dicts(t):\n",
    "    \"\"\"takes the list t and returns a 3 \n",
    "    dictionaries: d_zip_lat, d_zip_lng, and\n",
    "    d_zip_elev.\"\"\"\n",
    "    d_zip_lat = {}\n",
    "    d_zip_lng = {}\n",
    "    d_zip_elev = {}\n",
    "    for z in t:\n",
    "        try:\n",
    "            location = geolocator.geocode(z)\n",
    "            g = geocoder.elevation((location.latitude,location.longitude))\n",
    "            d_zip_lat[z] = location.latitude\n",
    "            d_zip_lng[z] = location.longitude\n",
    "            d_zip_elev[z] = g.elevation\n",
    "        except:\n",
    "            d_zip_lat[z] = np.nan\n",
    "            d_zip_lng[z] = np.nan\n",
    "            d_zip_elev[z] = np.nan\n",
    "    return d_zip_lat, d_zip_lng, d_zip_elev\n",
    "\n",
    "d_zip_lat, d_zip_lng, d_zip_elev = make_zip_dicts([x for x in df['goodzip'].value_counts().index])\n",
    "\n",
    "\n",
    "df['latitude'] = df['goodzip'].replace(d_zip_lat).copy()\n",
    "df['longitude'] = df['goodzip'].replace(d_zip_lng).copy()\n",
    "df['elevation'] = df['goodzip'].replace(d_zip_elev).copy()"
   ]
  },
  {
   "cell_type": "code",
   "execution_count": null,
   "metadata": {
    "collapsed": true
   },
   "outputs": [],
   "source": []
  }
 ],
 "metadata": {
  "kernelspec": {
   "display_name": "Python 3",
   "language": "python",
   "name": "python3"
  },
  "language_info": {
   "codemirror_mode": {
    "name": "ipython",
    "version": 3
   },
   "file_extension": ".py",
   "mimetype": "text/x-python",
   "name": "python",
   "nbconvert_exporter": "python",
   "pygments_lexer": "ipython3",
   "version": "3.5.1"
  }
 },
 "nbformat": 4,
 "nbformat_minor": 2
}
